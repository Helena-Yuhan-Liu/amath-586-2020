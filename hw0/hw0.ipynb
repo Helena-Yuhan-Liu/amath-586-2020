{
 "cells": [
  {
   "cell_type": "markdown",
   "metadata": {},
   "source": [
    "# Homework 0\n",
    "\n",
    "This homework is here for you to get used to using `git`."
   ]
  },
  {
   "cell_type": "markdown",
   "metadata": {},
   "source": [
    "## Problem 1\n",
    "\n",
    "Use the forward Euler method to approximate the solution to the differential equation\n",
    "\n",
    "$$ x'(t) = x(t)(1-x(t)), \\\\x(0) = 0.001, \\\\0 \\leq t \\leq 10. $$\n",
    "\n",
    "Plot the solution as a function of $t$ over this interval.  Analyze the error, numerically, as the step size tends to zero."
   ]
  },
  {
   "cell_type": "markdown",
   "metadata": {},
   "source": [
    "## Solution"
   ]
  }
 ],
 "metadata": {
  "kernelspec": {
   "display_name": "Python 3",
   "language": "python",
   "name": "python3"
  },
  "language_info": {
   "codemirror_mode": {
    "name": "ipython",
    "version": 3
   },
   "file_extension": ".py",
   "mimetype": "text/x-python",
   "name": "python",
   "nbconvert_exporter": "python",
   "pygments_lexer": "ipython3",
   "version": "3.7.4"
  }
 },
 "nbformat": 4,
 "nbformat_minor": 2
}
